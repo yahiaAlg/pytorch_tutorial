{
  "cells": [
    {
      "cell_type": "code",
      "execution_count": null,
      "metadata": {
        "colab": {
          "base_uri": "https://localhost:8080/"
        },
        "id": "H3B4nhTgC7J_",
        "outputId": "b80a777e-eef4-4971-9d53-9c929e3f7d14"
      },
      "outputs": [
        {
          "name": "stdout",
          "output_type": "stream",
          "text": [
            "Requirement already satisfied: torch in /usr/local/lib/python3.10/dist-packages (2.4.1+cu121)\n",
            "Requirement already satisfied: torchvision in /usr/local/lib/python3.10/dist-packages (0.19.1+cu121)\n",
            "Requirement already satisfied: torchaudio in /usr/local/lib/python3.10/dist-packages (2.4.1+cu121)\n",
            "Requirement already satisfied: filelock in /usr/local/lib/python3.10/dist-packages (from torch) (3.16.1)\n",
            "Requirement already satisfied: typing-extensions>=4.8.0 in /usr/local/lib/python3.10/dist-packages (from torch) (4.12.2)\n",
            "Requirement already satisfied: sympy in /usr/local/lib/python3.10/dist-packages (from torch) (1.13.3)\n",
            "Requirement already satisfied: networkx in /usr/local/lib/python3.10/dist-packages (from torch) (3.4)\n",
            "Requirement already satisfied: jinja2 in /usr/local/lib/python3.10/dist-packages (from torch) (3.1.4)\n",
            "Requirement already satisfied: fsspec in /usr/local/lib/python3.10/dist-packages (from torch) (2024.6.1)\n",
            "Requirement already satisfied: numpy in /usr/local/lib/python3.10/dist-packages (from torchvision) (1.26.4)\n",
            "Requirement already satisfied: pillow!=8.3.*,>=5.3.0 in /usr/local/lib/python3.10/dist-packages (from torchvision) (10.4.0)\n",
            "Requirement already satisfied: MarkupSafe>=2.0 in /usr/local/lib/python3.10/dist-packages (from jinja2->torch) (3.0.1)\n",
            "Requirement already satisfied: mpmath<1.4,>=1.1.0 in /usr/local/lib/python3.10/dist-packages (from sympy->torch) (1.3.0)\n"
          ]
        }
      ],
      "source": [
        "!pip install torch torchvision torchaudio"
      ]
    },
    {
      "cell_type": "code",
      "execution_count": null,
      "metadata": {
        "colab": {
          "base_uri": "https://localhost:8080/"
        },
        "id": "HzEIWpesIk0-",
        "outputId": "068df463-c26f-427c-dd69-0f49442ea97c"
      },
      "outputs": [
        {
          "name": "stdout",
          "output_type": "stream",
          "text": [
            "Name: torch\n",
            "Version: 2.4.1+cu121\n",
            "Summary: Tensors and Dynamic neural networks in Python with strong GPU acceleration\n",
            "Home-page: https://pytorch.org/\n",
            "Author: PyTorch Team\n",
            "Author-email: packages@pytorch.org\n",
            "License: BSD-3\n",
            "Location: /usr/local/lib/python3.10/dist-packages\n",
            "Requires: filelock, fsspec, jinja2, networkx, sympy, typing-extensions\n",
            "Required-by: accelerate, fastai, torchaudio, torchvision\n"
          ]
        }
      ],
      "source": [
        "!pip show torch # for checking if the library is installed"
      ]
    },
    {
      "cell_type": "markdown",
      "metadata": {
        "id": "Z6Bt05L1I9xF"
      },
      "source": [
        "# BASIC USAGE"
      ]
    },
    {
      "cell_type": "code",
      "execution_count": null,
      "metadata": {
        "colab": {
          "base_uri": "https://localhost:8080/"
        },
        "id": "iNO0J40oI9Zn",
        "outputId": "cca03a11-b47d-474b-ac08-f3a1804963f8"
      },
      "outputs": [
        {
          "name": "stdout",
          "output_type": "stream",
          "text": [
            "tensor([1, 2, 3, 5, 6, 8])\n"
          ]
        }
      ],
      "source": [
        "import torch\n",
        "#creating a 1dim vector\n",
        "vector_x = torch.tensor(\n",
        "    [1,2,3,5,6,8]\n",
        ")\n",
        "print(\n",
        "    vector_x\n",
        ")"
      ]
    },
    {
      "cell_type": "code",
      "execution_count": null,
      "metadata": {
        "colab": {
          "base_uri": "https://localhost:8080/"
        },
        "id": "FZX1QTaSUwNw",
        "outputId": "d1b12c7c-098f-430e-9277-119f8f791806"
      },
      "outputs": [
        {
          "name": "stdout",
          "output_type": "stream",
          "text": [
            "tensor([[1, 2],\n",
            "        [3, 4]])\n"
          ]
        }
      ],
      "source": [
        "#creating a 2*2 matrix\n",
        "matrix_y = torch.tensor(\n",
        "    [\n",
        "        [1,2],\n",
        "        [3,4]\n",
        "    ]\n",
        ")\n",
        "print(\n",
        "    matrix_y\n",
        ")"
      ]
    },
    {
      "cell_type": "code",
      "execution_count": null,
      "metadata": {
        "colab": {
          "base_uri": "https://localhost:8080/"
        },
        "id": "985rw_ElVKi_",
        "outputId": "1dd3727a-1c86-457c-8d32-0d8e98ba518a"
      },
      "outputs": [
        {
          "name": "stdout",
          "output_type": "stream",
          "text": [
            "the vector x is of a dimension:  torch.Size([6])\n",
            "the matrix y is of a dimension:  torch.Size([2, 2])\n"
          ]
        }
      ],
      "source": [
        "print(\"the vector x is of a dimension: \",vector_x.shape)\n",
        "print(\"the matrix y is of a dimension: \",matrix_y.shape)"
      ]
    },
    {
      "cell_type": "code",
      "execution_count": null,
      "metadata": {
        "colab": {
          "base_uri": "https://localhost:8080/"
        },
        "id": "Puk7X186Wdwv",
        "outputId": "c35b6510-20e9-4ec3-c1aa-5797ae2fd696"
      },
      "outputs": [
        {
          "name": "stdout",
          "output_type": "stream",
          "text": [
            "tensor([11, 12, 13, 15, 16, 18])\n"
          ]
        }
      ],
      "source": [
        "# Basic operations\n",
        "z = vector_x + 10 # add 10 o all vector elements\n",
        "print(z)"
      ]
    },
    {
      "cell_type": "code",
      "execution_count": null,
      "metadata": {
        "colab": {
          "base_uri": "https://localhost:8080/"
        },
        "id": "UVbz4zWoYG9l",
        "outputId": "ca6a3230-f3a1-455f-f783-9227d6dd6ddd"
      },
      "outputs": [
        {
          "name": "stdout",
          "output_type": "stream",
          "text": [
            "tensor([[ 11,  24,  39],\n",
            "        [ 56,  75,  96],\n",
            "        [119, 144, 171]])\n"
          ]
        }
      ],
      "source": [
        "# Matrix multiplication\n",
        "matrix_a = torch.tensor(\n",
        "    [\n",
        "        [1,2,3],\n",
        "        [4,5,6],\n",
        "        [7,8,9]\n",
        "    ]\n",
        ")\n",
        "matrix_b = torch.tensor(\n",
        "    [\n",
        "        [11,12,13],\n",
        "        [14,15,16],\n",
        "        [17,18,19]\n",
        "    ]\n",
        ")\n",
        "matrix_c = matrix_a * matrix_b\n",
        "print(\n",
        "    matrix_c # c is the result of the multiplication of matrix a by matrix b\n",
        ")"
      ]
    },
    {
      "cell_type": "markdown",
      "metadata": {
        "id": "_IRxyIwDcfEj"
      },
      "source": [
        "## TYPES"
      ]
    },
    {
      "cell_type": "markdown",
      "metadata": {
        "id": "LuOdP0GyclWx"
      },
      "source": [
        "### floats"
      ]
    },
    {
      "cell_type": "code",
      "execution_count": null,
      "metadata": {
        "colab": {
          "base_uri": "https://localhost:8080/"
        },
        "id": "ZCcprGCgcgPu",
        "outputId": "f2af15d8-a31c-45e5-aca7-a53756a44857"
      },
      "outputs": [
        {
          "name": "stdout",
          "output_type": "stream",
          "text": [
            "Default float type: torch.float32\n",
            "Double precision: torch.float64\n",
            "Half precision: torch.float16\n",
            "BFloat16: torch.bfloat16\n"
          ]
        }
      ],
      "source": [
        "import torch\n",
        "\n",
        "# Float32 (default)\n",
        "x = torch.tensor([1.0, 2.0, 3.0])\n",
        "print(f\"Default float type: {x.dtype}\")\n",
        "\n",
        "# Float64 (double precision)\n",
        "y = torch.tensor([1.0, 2.0, 3.0], dtype=torch.float64)\n",
        "print(f\"Double precision: {y.dtype}\")\n",
        "\n",
        "# Float16 (half precision)\n",
        "z = torch.tensor([1.0, 2.0, 3.0], dtype=torch.float16)\n",
        "print(f\"Half precision: {z.dtype}\")\n",
        "\n",
        "# BFloat16 (brain floating point)\n",
        "w = torch.tensor([1.0, 2.0, 3.0], dtype=torch.bfloat16)\n",
        "print(f\"BFloat16: {w.dtype}\")"
      ]
    },
    {
      "cell_type": "markdown",
      "metadata": {
        "id": "Kdbx2UdUcnQk"
      },
      "source": [
        "### ints"
      ]
    },
    {
      "cell_type": "code",
      "execution_count": null,
      "metadata": {
        "colab": {
          "base_uri": "https://localhost:8080/"
        },
        "id": "C8b9GPKEcomQ",
        "outputId": "be2543e5-23d7-4eb6-da9a-47bda125eb0a"
      },
      "outputs": [
        {
          "name": "stdout",
          "output_type": "stream",
          "text": [
            "Default int type: torch.int64\n",
            "64-bit integer: torch.int64\n",
            "16-bit integer: torch.int16\n",
            "8-bit integer: torch.int8\n",
            "Unsigned 8-bit integer: torch.uint8\n"
          ]
        }
      ],
      "source": [
        "# Int32 (default integer type)\n",
        "a = torch.tensor([1, 2, 3])\n",
        "print(f\"Default int type: {a.dtype}\")\n",
        "\n",
        "# Int64 (long)\n",
        "b = torch.tensor([1, 2, 3], dtype=torch.int64)\n",
        "print(f\"64-bit integer: {b.dtype}\")\n",
        "\n",
        "# Int16 (short)\n",
        "c = torch.tensor([1, 2, 3], dtype=torch.int16)\n",
        "print(f\"16-bit integer: {c.dtype}\")\n",
        "\n",
        "# Int8\n",
        "d = torch.tensor([1, 2, 3], dtype=torch.int8)\n",
        "print(f\"8-bit integer: {d.dtype}\")\n",
        "\n",
        "# Uint8 (unsigned 8-bit)\n",
        "e = torch.tensor([1, 2, 3], dtype=torch.uint8)\n",
        "print(f\"Unsigned 8-bit integer: {e.dtype}\")"
      ]
    },
    {
      "cell_type": "markdown",
      "metadata": {
        "id": "LorbO-4icqAq"
      },
      "source": [
        "### booliens"
      ]
    },
    {
      "cell_type": "code",
      "execution_count": null,
      "metadata": {
        "colab": {
          "base_uri": "https://localhost:8080/"
        },
        "id": "rR2D2zm1cpqR",
        "outputId": "7d2462ea-596f-43fc-a6a9-26047b26d179"
      },
      "outputs": [
        {
          "name": "stdout",
          "output_type": "stream",
          "text": [
            "Boolean type: torch.bool\n",
            "Result of comparison: tensor([False,  True,  True])\n",
            "Type of comparison result: torch.bool\n"
          ]
        }
      ],
      "source": [
        "# Boolean\n",
        "f = torch.tensor([True, False, True])\n",
        "print(f\"Boolean type: {f.dtype}\")\n",
        "\n",
        "# Create boolean tensor from comparison\n",
        "g = torch.tensor([1, 2, 3]) > 1\n",
        "print(f\"Result of comparison: {g}\")\n",
        "print(f\"Type of comparison result: {g.dtype}\")"
      ]
    },
    {
      "cell_type": "markdown",
      "metadata": {
        "id": "4Xt56dRLcw8A"
      },
      "source": [
        "### complex"
      ]
    },
    {
      "cell_type": "code",
      "execution_count": null,
      "metadata": {
        "colab": {
          "base_uri": "https://localhost:8080/"
        },
        "id": "X_S51Oc2dTtu",
        "outputId": "3f647222-da86-4588-8fa5-9968e363be04"
      },
      "outputs": [
        {
          "name": "stdout",
          "output_type": "stream",
          "text": [
            "Complex64 type: torch.complex64\n",
            "Complex128 type: torch.complex128\n"
          ]
        }
      ],
      "source": [
        "# Complex64\n",
        "h = torch.tensor([1+2j, 3+4j], dtype=torch.complex64)\n",
        "print(f\"Complex64 type: {h.dtype}\")\n",
        "\n",
        "# Complex128\n",
        "i = torch.tensor([1+2j, 3+4j], dtype=torch.complex128)\n",
        "print(f\"Complex128 type: {i.dtype}\")"
      ]
    },
    {
      "cell_type": "markdown",
      "metadata": {
        "id": "tIbQS8m1mePP"
      },
      "source": [
        "## conversion"
      ]
    },
    {
      "cell_type": "code",
      "execution_count": null,
      "metadata": {
        "colab": {
          "base_uri": "https://localhost:8080/"
        },
        "id": "Cf4z89H9mgyR",
        "outputId": "9552e96f-fd8f-4106-c34b-24c8b5c9551d"
      },
      "outputs": [
        {
          "name": "stdout",
          "output_type": "stream",
          "text": [
            "Original: tensor([1.5000, 2.5000, 3.5000]) (dtype: torch.float32)\n",
            "To int32: tensor([1, 2, 3], dtype=torch.int32) (dtype: torch.int32)\n",
            "To float64: tensor([1.5000, 2.5000, 3.5000], dtype=torch.float64) (dtype: torch.float64)\n",
            "To uint8: tensor([1, 2, 3], dtype=torch.uint8) (dtype: torch.uint8)\n"
          ]
        }
      ],
      "source": [
        "# Original tensor\n",
        "original = torch.tensor([1.5, 2.5, 3.5])\n",
        "print(f\"Original: {original} (dtype: {original.dtype})\")\n",
        "\n",
        "# Convert to int32\n",
        "int_tensor = original.to(torch.int32)\n",
        "print(f\"To int32: {int_tensor} (dtype: {int_tensor.dtype})\")\n",
        "\n",
        "# Convert to float64\n",
        "double_tensor = original.double()\n",
        "print(f\"To float64: {double_tensor} (dtype: {double_tensor.dtype})\")\n",
        "\n",
        "# Convert to uint8\n",
        "uint8_tensor = original.to(torch.uint8)\n",
        "print(f\"To uint8: {uint8_tensor} (dtype: {uint8_tensor.dtype})\")"
      ]
    },
    {
      "cell_type": "code",
      "execution_count": null,
      "metadata": {
        "colab": {
          "base_uri": "https://localhost:8080/"
        },
        "id": "YK1VgxsmnN5I",
        "outputId": "db84b692-d7a7-436f-f417-b23d3e4c3456"
      },
      "outputs": [
        {
          "name": "stdout",
          "output_type": "stream",
          "text": [
            "Default float type: torch.float32\n",
            "New default float type: torch.float64\n",
            "New tensor dtype: torch.float64\n"
          ]
        }
      ],
      "source": [
        "# Check default types\n",
        "print(f\"Default float type: {torch.get_default_dtype()}\")\n",
        "\n",
        "# Change default float type\n",
        "torch.set_default_dtype(torch.float64)\n",
        "print(f\"New default float type: {torch.get_default_dtype()}\")\n",
        "\n",
        "# Create a new tensor to verify\n",
        "new_tensor = torch.tensor([1.0, 2.0, 3.0])\n",
        "print(f\"New tensor dtype: {new_tensor.dtype}\")\n",
        "\n",
        "# Reset to default\n",
        "torch.set_default_dtype(torch.float32)"
      ]
    },
    {
      "cell_type": "markdown",
      "metadata": {
        "id": "-K7TfZRbo236"
      },
      "source": [
        "## OPERATIONS"
      ]
    },
    {
      "cell_type": "markdown",
      "metadata": {
        "id": "yft2rGEQo5v2"
      },
      "source": [
        "1. Creating Vectors and Matrices"
      ]
    },
    {
      "cell_type": "code",
      "execution_count": null,
      "metadata": {
        "colab": {
          "base_uri": "https://localhost:8080/"
        },
        "id": "ftTgltsjo7EO",
        "outputId": "31996e07-1a7c-4651-c34d-7d55763a692c"
      },
      "outputs": [
        {
          "name": "stdout",
          "output_type": "stream",
          "text": [
            "Vector v: tensor([1, 2, 3, 4, 5])\n",
            "Matrix A:\n",
            "tensor([[1, 2, 3],\n",
            "        [4, 5, 6],\n",
            "        [7, 8, 9]])\n",
            "Matrix B:\n",
            "tensor([[1., 1., 1.],\n",
            "        [1., 1., 1.]])\n",
            "Identity matrix I:\n",
            "tensor([[1., 0., 0.],\n",
            "        [0., 1., 0.],\n",
            "        [0., 0., 1.]])\n"
          ]
        }
      ],
      "source": [
        "# Create a vector\n",
        "v = torch.tensor([1, 2, 3, 4, 5])\n",
        "print(\"Vector v:\", v)\n",
        "\n",
        "# Create a matrix\n",
        "A = torch.tensor([[1, 2, 3],\n",
        "                  [4, 5, 6],\n",
        "                  [7, 8, 9]])\n",
        "print(\"Matrix A:\")\n",
        "print(A)\n",
        "\n",
        "# Create a 2x3 matrix of ones\n",
        "B = torch.ones(2, 3)\n",
        "print(\"Matrix B:\")\n",
        "print(B)\n",
        "\n",
        "# Create a 3x3 identity matrix\n",
        "I = torch.eye(3)\n",
        "print(\"Identity matrix I:\")\n",
        "print(I)"
      ]
    },
    {
      "cell_type": "markdown",
      "metadata": {
        "id": "ZikoVJZtpfIh"
      },
      "source": [
        "2. Vector Operations"
      ]
    },
    {
      "cell_type": "code",
      "execution_count": null,
      "metadata": {
        "colab": {
          "base_uri": "https://localhost:8080/"
        },
        "id": "JH_ByHU2pfsh",
        "outputId": "75f0cc9b-d70a-46d6-8c53-49bf138a2037"
      },
      "outputs": [
        {
          "name": "stdout",
          "output_type": "stream",
          "text": [
            "v1 + v2 = tensor([5, 7, 9])\n",
            "2 * v1 = tensor([2, 4, 6])\n",
            "v1 · v2 = tensor(32)\n",
            "||v1|| = tensor(3.7417, dtype=torch.float64)\n",
            "Normalized v1: tensor([0.2673, 0.5345, 0.8018], dtype=torch.float64)\n"
          ]
        }
      ],
      "source": [
        "# Vector addition\n",
        "v1 = torch.tensor([1, 2, 3])\n",
        "v2 = torch.tensor([4, 5, 6])\n",
        "v_sum = v1 + v2\n",
        "print(\"v1 + v2 =\", v_sum)\n",
        "\n",
        "# Scalar multiplication\n",
        "scalar = 2\n",
        "v_scaled = scalar * v1\n",
        "print(\"2 * v1 =\", v_scaled)\n",
        "\n",
        "# Dot product\n",
        "dot_product = torch.dot(v1, v2)\n",
        "print(\"v1 · v2 =\", dot_product)\n",
        "\n",
        "# Vector norm (magnitude)\n",
        "norm = torch.norm(v1.to(\n",
        "    torch.float64\n",
        "))\n",
        "print(\"||v1|| =\", norm)\n",
        "\n",
        "# Normalize a vector\n",
        "v_normalized = v1 / norm\n",
        "print(\"Normalized v1:\", v_normalized)"
      ]
    },
    {
      "cell_type": "markdown",
      "metadata": {
        "id": "_PuiQBh4rvr7"
      },
      "source": [
        "3. Matrix Operations"
      ]
    },
    {
      "cell_type": "code",
      "execution_count": null,
      "metadata": {
        "colab": {
          "base_uri": "https://localhost:8080/"
        },
        "id": "bvjwPIkNrvGM",
        "outputId": "65600b96-f80a-432c-e294-3becf98bf3ef"
      },
      "outputs": [
        {
          "name": "stdout",
          "output_type": "stream",
          "text": [
            "C + D:\n",
            "tensor([[ 6,  8],\n",
            "        [10, 12]])\n",
            "C * D:\n",
            "tensor([[19, 22],\n",
            "        [43, 50]])\n",
            "C .* D (element-wise):\n",
            "tensor([[ 5, 12],\n",
            "        [21, 32]])\n",
            "C^T (transpose of C):\n",
            "tensor([[1, 3],\n",
            "        [2, 4]])\n",
            "C^-1 (inverse of C):\n",
            "tensor([[-2.0000,  1.0000],\n",
            "        [ 1.5000, -0.5000]], dtype=torch.float64)\n",
            "C * C^-1 (should be close to identity):\n",
            "tensor([[1., 0.],\n",
            "        [0., 1.]], dtype=torch.float64)\n"
          ]
        }
      ],
      "source": [
        "# Matrix addition\n",
        "C = torch.tensor([[1, 2], [3, 4]])\n",
        "D = torch.tensor([[5, 6], [7, 8]])\n",
        "M_sum = C + D\n",
        "print(\"C + D:\")\n",
        "print(M_sum)\n",
        "\n",
        "# Matrix multiplication\n",
        "M_product = torch.matmul(C, D)\n",
        "print(\"C * D:\")\n",
        "print(M_product)\n",
        "\n",
        "# Element-wise multiplication\n",
        "M_element_wise = C * D\n",
        "print(\"C .* D (element-wise):\")\n",
        "print(M_element_wise)\n",
        "\n",
        "# Matrix transpose\n",
        "C_transpose = C.t()\n",
        "print(\"C^T (transpose of C):\")\n",
        "print(C_transpose)\n",
        "\n",
        "# Matrix inverse\n",
        "C_inv = torch.inverse(C.to(torch.float64))\n",
        "print(\"C^-1 (inverse of C):\")\n",
        "print(C_inv)\n",
        "\n",
        "# Verify inverse\n",
        "I = torch.matmul(C.to(\n",
        "    torch.float64\n",
        "), C_inv)\n",
        "print(\"C * C^-1 (should be close to identity):\")\n",
        "print(I)"
      ]
    },
    {
      "cell_type": "markdown",
      "metadata": {
        "id": "oP4ry3Lhs3mC"
      },
      "source": [
        "4. Solving Linear Systems"
      ]
    },
    {
      "cell_type": "code",
      "execution_count": null,
      "metadata": {
        "colab": {
          "base_uri": "https://localhost:8080/"
        },
        "id": "GH-CTyfns4Nh",
        "outputId": "7acb81b7-0208-448d-f1e7-c268a3b3c7cf"
      },
      "outputs": [
        {
          "name": "stdout",
          "output_type": "stream",
          "text": [
            "Solution to Ax = b:\n",
            "tensor([1.4000, 1.2000])\n",
            "A * x (should be close to b):\n",
            "tensor([4., 5.])\n"
          ]
        }
      ],
      "source": [
        "# Define matrix A and vector b\n",
        "A = torch.tensor([\n",
        "      [2, 1],\n",
        "      [1, 3]\n",
        "    ], dtype=torch.float)\n",
        "b = torch.tensor([4, 5], dtype=torch.float)\n",
        "\"\"\"\n",
        "system of equations:\n",
        "2x + 1y = 4\n",
        "x  + 3y = 5\n",
        "\"\"\"\n",
        "# Solve the system Ax = b\n",
        "x = torch.linalg.solve(A, b)\n",
        "print(\"Solution to Ax = b:\")\n",
        "print(x)\n",
        "\n",
        "# Verify the solution\n",
        "b_check = torch.matmul(A, x)\n",
        "print(\"A * x (should be close to b):\")\n",
        "print(b_check)"
      ]
    },
    {
      "cell_type": "markdown",
      "metadata": {
        "id": "NtP0uGdMz2fs"
      },
      "source": [
        "## Complex Numbers"
      ]
    },
    {
      "cell_type": "markdown",
      "metadata": {
        "id": "YoMKSVvTz4By"
      },
      "source": [
        "2. Creating Complex Tensors"
      ]
    },
    {
      "cell_type": "code",
      "execution_count": null,
      "metadata": {
        "colab": {
          "base_uri": "https://localhost:8080/"
        },
        "id": "mbxyzA7bz6F8",
        "outputId": "5eff7856-5ac7-4a8d-dc8f-507194bbf65d"
      },
      "outputs": [
        {
          "name": "stdout",
          "output_type": "stream",
          "text": [
            "c1: tensor([1.+2.j, 3.-4.j, 5.+6.j])\n",
            "c1 dtype: torch.complex64\n",
            "c2: tensor([1.+4.j, 2.+5.j, 3.+6.j])\n",
            "c2 dtype: torch.complex64\n",
            "c3: tensor([1.+2.j, 3.-4.j, 5.+6.j], dtype=torch.complex128)\n",
            "c3 dtype: torch.complex128\n",
            "c4: tensor([ 1.0000e+00+0.0000e+00j, -8.7423e-08+2.0000e+00j,\n",
            "        -3.0000e+00-2.6227e-07j])\n",
            "c4 dtype: torch.complex64\n"
          ]
        }
      ],
      "source": [
        "# Create a complex tensor from a list of complex numbers\n",
        "c1 = torch.tensor([1+2j, 3-4j, 5+6j])\n",
        "print(\"c1:\", c1)\n",
        "print(\"c1 dtype:\", c1.dtype)\n",
        "\n",
        "# Create a complex tensor from real and imaginary parts\n",
        "real = torch.tensor([1., 2., 3.])\n",
        "imag = torch.tensor([4., 5., 6.])\n",
        "c2 = torch.complex(real, imag)\n",
        "print(\"c2:\", c2)\n",
        "print(\"c2 dtype:\", c2.dtype)\n",
        "\n",
        "# Create a complex tensor with specific dtype\n",
        "c3 = torch.tensor([1+2j, 3-4j, 5+6j], dtype=torch.complex128)\n",
        "print(\"c3:\", c3)\n",
        "print(\"c3 dtype:\", c3.dtype)\n",
        "\n",
        "# Create a complex tensor from polar coordinates\n",
        "magnitude = torch.tensor([1., 2., 3.])\n",
        "angle = torch.tensor([0., torch.pi/2, torch.pi])\n",
        "c4 = torch.polar(magnitude, angle)\n",
        "print(\"c4:\", c4)\n",
        "print(\"c4 dtype:\", c4.dtype)"
      ]
    },
    {
      "cell_type": "markdown",
      "metadata": {
        "id": "VZuthGpv1L6l"
      },
      "source": [
        "3. Accessing Real and Imaginary Parts"
      ]
    },
    {
      "cell_type": "code",
      "execution_count": null,
      "metadata": {
        "colab": {
          "base_uri": "https://localhost:8080/"
        },
        "id": "AKIlc4_c1N-N",
        "outputId": "2d1136c4-2d0d-40b6-b89e-e0fbbec4f3f2"
      },
      "outputs": [
        {
          "name": "stdout",
          "output_type": "stream",
          "text": [
            "Real part: tensor([1., 3., 5.])\n",
            "Imaginary part: tensor([ 2., -4.,  6.])\n",
            "Magnitude: tensor([2.2361, 5.0000, 7.8102])\n",
            "Phase angle: tensor([ 1.1071, -0.9273,  0.8761])\n"
          ]
        }
      ],
      "source": [
        "c = torch.tensor([1+2j, 3-4j, 5+6j])\n",
        "\n",
        "# Access real part\n",
        "print(\"Real part:\", c.real)\n",
        "\n",
        "# Access imaginary part\n",
        "print(\"Imaginary part:\", c.imag)\n",
        "\n",
        "# Access magnitude (absolute value)\n",
        "print(\"Magnitude:\", c.abs())\n",
        "\n",
        "# Access phase angle\n",
        "print(\"Phase angle:\", c.angle())"
      ]
    },
    {
      "cell_type": "markdown",
      "metadata": {
        "id": "JUveakrp1f8A"
      },
      "source": [
        "4. Basic Operations with Complex Numbers"
      ]
    },
    {
      "cell_type": "code",
      "execution_count": null,
      "metadata": {
        "colab": {
          "base_uri": "https://localhost:8080/"
        },
        "id": "bXmViyu91jVq",
        "outputId": "137c4615-43e5-4f45-9c23-c195071f3215"
      },
      "outputs": [
        {
          "name": "stdout",
          "output_type": "stream",
          "text": [
            "a + b = tensor([ 6.+8.j, 10.-12.j])\n",
            "a - b = tensor([-4.-4.j, -4.+4.j])\n",
            "a * b = tensor([ -7.+16.j, -11.-52.j])\n",
            "a / b = tensor([0.2787+0.0656j, 0.4690-0.0354j])\n",
            "a ** 2 = tensor([-3.+4.j, -7.-24.j])\n",
            "Conjugate of a: tensor([1.-2.j, 3.+4.j])\n",
            "exp(a) = tensor([ -1.1312+2.4717j, -13.1288+15.2008j])\n",
            "log(a) = tensor([0.8047+1.1071j, 1.6094-0.9273j])\n"
          ]
        }
      ],
      "source": [
        "a = torch.tensor([1+2j, 3-4j])\n",
        "b = torch.tensor([5+6j, 7-8j])\n",
        "\n",
        "# Addition\n",
        "print(\"a + b =\", a + b)\n",
        "\n",
        "# Subtraction\n",
        "print(\"a - b =\", a - b)\n",
        "\n",
        "# Multiplication\n",
        "print(\"a * b =\", a * b)\n",
        "\n",
        "# Division\n",
        "print(\"a / b =\", a / b)\n",
        "\n",
        "# Power\n",
        "print(\"a ** 2 =\", a ** 2)\n",
        "\n",
        "# Conjugate\n",
        "print(\"Conjugate of a:\", a.conj())\n",
        "\n",
        "# Exponential\n",
        "print(\"exp(a) =\", torch.exp(a))\n",
        "\n",
        "# Natural logarithm\n",
        "print(\"log(a) =\", torch.log(a))"
      ]
    }
  ],
  "metadata": {
    "colab": {
      "provenance": []
    },
    "kernelspec": {
      "display_name": ".venv",
      "language": "python",
      "name": "python3"
    },
    "language_info": {
      "name": "python",
      "version": "3.12.5"
    }
  },
  "nbformat": 4,
  "nbformat_minor": 0
}
